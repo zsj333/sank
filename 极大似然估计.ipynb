{
 "cells": [
  {
   "cell_type": "code",
   "execution_count": 1,
   "id": "a6d4ba51",
   "metadata": {},
   "outputs": [],
   "source": [
    "import os\n",
    "os.environ[\"KMP_DUPLICATE_LIB_OK\"]=\"TRUE\""
   ]
  },
  {
   "cell_type": "code",
   "execution_count": 3,
   "id": "c97bc964",
   "metadata": {},
   "outputs": [
    {
     "data": {
      "image/png": "[encoded data removed]",
      "text/plain": [
       "<Figure size 432x288 with 1 Axes>"
      ]
     },
     "metadata": {
      "needs_background": "light"
     },
     "output_type": "display_data"
    }
   ],
   "source": [
    "import numpy as np\n",
    "import matplotlib.pyplot as plt\n",
    "plt.rcParams['font.sans-serif'] = ['SimHei']  # 设置字体为黑体，用于支持中文显示\n",
    "plt.rcParams['axes.unicode_minus'] = False  # 用来正常显示负号\n",
    "\n",
    "def likelihood_function(p, x):\n",
    "    # 确保概率向量的和为1（由于浮点数计算误差，做归一化处理）\n",
    "    p = p / np.sum(p)\n",
    "    log_likelihood = 0\n",
    "    for i in x:\n",
    "        # 骰子面的索引从0开始，将观测值减1作为索引\n",
    "        index = i - 1\n",
    "        log_likelihood += np.log(p[index])\n",
    "    return log_likelihood\n",
    "\n",
    "\n",
    "def generate_observations(n):\n",
    "    return np.random.randint(1, 7, size=n)\n",
    "\n",
    "\n",
    "def gradient_descent(x, learning_rate=0.01, num_iterations=1000):\n",
    "    # 初始化概率向量，初始化为均匀分布\n",
    "    p = np.ones(6) / 6\n",
    "    for _ in range(num_iterations):\n",
    "        gradient = np.zeros(6)\n",
    "        # 计算梯度\n",
    "        for i in x:\n",
    "            index = i - 1\n",
    "            gradient[index] += 1 / p[index]\n",
    "        gradient = gradient / len(x)\n",
    "        # 更新概率向量\n",
    "        p -= learning_rate * gradient\n",
    "        # 归一化概率向量，确保其总和为1\n",
    "        p = p / np.sum(p)\n",
    "    return p\n",
    "\n",
    "\n",
    "def plot_probability_distribution(true_p, estimated_p):\n",
    "    bar_width = 0.35\n",
    "    index = np.arange(6)\n",
    "    plt.bar(index, true_p, bar_width, label='真实概率', alpha=0.7)\n",
    "    plt.bar(index + bar_width, estimated_p, bar_width, label='估计概率', alpha=0.7)\n",
    "    plt.xlabel('骰子面')\n",
    "    plt.ylabel('概率')\n",
    "    plt.title('骰子面的概率分布图')\n",
    "    plt.xticks(index + bar_width / 2, [1, 2, 3, 4, 5, 6])\n",
    "    plt.legend()\n",
    "    plt.show()\n",
    "\n",
    "\n",
    "def main():\n",
    "    n = 1000  # 实验次数\n",
    "    x = generate_observations(n)\n",
    "    learning_rate = 0.01\n",
    "    num_iterations = 1000\n",
    "    estimated_p = gradient_descent(x, learning_rate, num_iterations)\n",
    "    # 真实的骰子各面概率（均匀分布）\n",
    "    true_p = np.ones(6) / 6\n",
    "    plot_probability_distribution(true_p, estimated_p)\n",
    "\n",
    "\n",
    "if __name__ == \"__main__\":\n",
    "    main()"
   ]
  },
  {
   "cell_type": "code",
   "execution_count": null,
   "id": "b1a023c8",
   "metadata": {},
   "outputs": [],
   "source": []
  }
 ],
 "metadata": {
  "kernelspec": {
   "display_name": "Python 3 (ipykernel)",
   "language": "python",
   "name": "python3"
  },
  "language_info": {
   "codemirror_mode": {
    "name": "ipython",
    "version": 3
   },
   "file_extension": ".py",
   "mimetype": "text/x-python",
   "name": "python",
   "nbconvert_exporter": "python",
   "pygments_lexer": "ipython3",
   "version": "3.9.7"
  }
 },
 "nbformat": 4,
 "nbformat_minor": 5
}
