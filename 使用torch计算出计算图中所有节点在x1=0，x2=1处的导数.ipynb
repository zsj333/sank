{
 "cells": [
  {
   "cell_type": "code",
   "execution_count": 11,
   "id": "263401c7",
   "metadata": {},
   "outputs": [],
   "source": [
    "import torch"
   ]
  },
  {
   "cell_type": "code",
   "execution_count": 19,
   "id": "97efae7a",
   "metadata": {},
   "outputs": [
    {
     "name": "stdout",
     "output_type": "stream",
     "text": [
      "dy/dx1: tensor(0.)\n",
      "dy/dx2: tensor(0.0911)\n"
     ]
    }
   ],
   "source": [
    "import torch\n",
    "import torch.nn.functional as F\n",
    "\n",
    "# 定义输入变量\n",
    "x1 = torch.tensor(0., requires_grad=True)\n",
    "x2 = torch.tensor(1., requires_grad=True)\n",
    "\n",
    "# 计算中间节点a\n",
    "a = x1 ** 2 + 2 * x2 + 1\n",
    "\n",
    "# 计算中间节点b\n",
    "b = 3 * a\n",
    "\n",
    "# 计算中间节点c和d\n",
    "c = torch.sigmoid(a)\n",
    "d = torch.sigmoid(b)\n",
    "\n",
    "# 计算输出y\n",
    "y = d + c + 1\n",
    "\n",
    "# 自动求导\n",
    "y.backward()\n",
    "\n",
    "# 输出导数\n",
    "print(\"dy/dx1:\", x1.grad)\n",
    "print(\"dy/dx2:\", x2.grad)"
   ]
  },
  {
   "cell_type": "code",
   "execution_count": null,
   "id": "477db024",
   "metadata": {},
   "outputs": [],
   "source": []
  }
 ],
 "metadata": {
  "kernelspec": {
   "display_name": "Python 3 (ipykernel)",
   "language": "python",
   "name": "python3"
  },
  "language_info": {
   "codemirror_mode": {
    "name": "ipython",
    "version": 3
   },
   "file_extension": ".py",
   "mimetype": "text/x-python",
   "name": "python",
   "nbconvert_exporter": "python",
   "pygments_lexer": "ipython3",
   "version": "3.9.7"
  }
 },
 "nbformat": 4,
 "nbformat_minor": 5
}
