{
 "cells": [
  {
   "cell_type": "code",
   "execution_count": 7,
   "id": "d5405d19",
   "metadata": {},
   "outputs": [],
   "source": [
    "import torch\n",
    "import torch.nn as nn\n",
    "import numpy as np\n",
    "import matplotlib.pyplot as plt\n",
    "plt.rcParams['font.sans-serif'] = ['SimHei']  # 设置字体为黑体，用于支持中文显示\n",
    "plt.rcParams['axes.unicode_minus'] = False  # 用来正常显示负号"
   ]
  },
  {
   "cell_type": "code",
   "execution_count": 8,
   "id": "f900b782",
   "metadata": {},
   "outputs": [],
   "source": [
    "import os\n",
    "os.environ[\"KMP_DUPLICATE_LIB_OK\"]=\"TRUE\""
   ]
  },
  {
   "cell_type": "code",
   "execution_count": 9,
   "id": "ffd9ed32",
   "metadata": {},
   "outputs": [],
   "source": [
    "# 设置样本数量和特征数量\n",
    "num_samples = 100\n",
    "num_features = 3\n",
    "\n",
    "# 随机生成特征数据（X），服从正态分布\n",
    "X = np.random.randn(num_samples, num_features)\n",
    "\n",
    "# 随机生成真实的权重（模拟真实关系），并加上偏置项\n",
    "true_weights = np.array([2, -1, 3])\n",
    "bias = 5\n",
    "# 根据线性关系生成目标值（y），加上一些噪声使其更真实\n",
    "noise = np.random.randn(num_samples) * 0.5\n",
    "y = np.dot(X, true_weights) + bias + noise\n",
    "\n",
    "# 将数据转换为PyTorch张量\n",
    "X_tensor = torch.tensor(X, dtype=torch.float32)\n",
    "y_tensor = torch.tensor(y, dtype=torch.float32).unsqueeze(1)"
   ]
  },
  {
   "cell_type": "code",
   "execution_count": 10,
   "id": "52a21caf",
   "metadata": {},
   "outputs": [],
   "source": [
    "class LinearRegressionModel(nn.Module):\n",
    "    def __init__(self, input_size):\n",
    "        super(LinearRegressionModel, self).__init__()\n",
    "        self.linear = nn.Linear(input_size, 1)\n",
    "\n",
    "    def forward(self, x):\n",
    "        return self.linear(x)"
   ]
  },
  {
   "cell_type": "code",
   "execution_count": 11,
   "id": "8c217a02",
   "metadata": {},
   "outputs": [
    {
     "name": "stdout",
     "output_type": "stream",
     "text": [
      "Epoch 10/100, Loss: 28.234264373779297\n",
      "Epoch 20/100, Loss: 19.306734085083008\n",
      "Epoch 30/100, Loss: 13.26022720336914\n",
      "Epoch 40/100, Loss: 9.154989242553711\n",
      "Epoch 50/100, Loss: 6.361025810241699\n",
      "Epoch 60/100, Loss: 4.454966068267822\n",
      "Epoch 70/100, Loss: 3.1515963077545166\n",
      "Epoch 80/100, Loss: 2.2583096027374268\n",
      "Epoch 90/100, Loss: 1.6447136402130127\n",
      "Epoch 100/100, Loss: 1.222324252128601\n"
     ]
    }
   ],
   "source": [
    "# 实例化模型、定义损失函数和优化器\n",
    "model = LinearRegressionModel(num_features)\n",
    "criterion = nn.MSELoss()\n",
    "optimizer = torch.optim.SGD(model.parameters(), lr=0.01)\n",
    "\n",
    "# 用于记录每次迭代的损失值\n",
    "losses = []\n",
    "num_epochs = 100\n",
    "\n",
    "for epoch in range(num_epochs):\n",
    "    # 前向传播\n",
    "    outputs = model(X_tensor)\n",
    "    loss = criterion(outputs, y_tensor)\n",
    "\n",
    "    # 反向传播并更新权重\n",
    "    optimizer.zero_grad()\n",
    "    loss.backward()\n",
    "    optimizer.step()\n",
    "\n",
    "    losses.append(loss.item())\n",
    "    if (epoch + 1) % 10 == 0:\n",
    "        print(f'Epoch {epoch + 1}/{num_epochs}, Loss: {loss.item()}')"
   ]
  },
  {
   "cell_type": "code",
   "execution_count": 12,
   "id": "9f942118",
   "metadata": {},
   "outputs": [
    {
     "data": {
      "image/png": "[encoded data removed]",
      "text/plain": [
       "<Figure size 432x288 with 1 Axes>"
      ]
     },
     "metadata": {
      "needs_background": "light"
     },
     "output_type": "display_data"
    }
   ],
   "source": [
    "plt.plot(range(1, num_epochs + 1), losses)\n",
    "plt.xlabel('时代')\n",
    "plt.ylabel('损失')\n",
    "plt.title('多元线性回归模型训练过程中的损失曲线')\n",
    "plt.show()"
   ]
  },
  {
   "cell_type": "code",
   "execution_count": null,
   "id": "dbb08ae8",
   "metadata": {},
   "outputs": [],
   "source": []
  }
 ],
 "metadata": {
  "kernelspec": {
   "display_name": "Python 3 (ipykernel)",
   "language": "python",
   "name": "python3"
  },
  "language_info": {
   "codemirror_mode": {
    "name": "ipython",
    "version": 3
   },
   "file_extension": ".py",
   "mimetype": "text/x-python",
   "name": "python",
   "nbconvert_exporter": "python",
   "pygments_lexer": "ipython3",
   "version": "3.9.7"
  }
 },
 "nbformat": 4,
 "nbformat_minor": 5
}
