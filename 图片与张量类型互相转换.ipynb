{
 "cells": [
  {
   "cell_type": "code",
   "execution_count": 1,
   "id": "bc14247f",
   "metadata": {},
   "outputs": [],
   "source": [
    "import torch\n",
    "import numpy\n",
    "from PIL import Image\n",
    "from torchvision import transforms"
   ]
  },
  {
   "cell_type": "code",
   "execution_count": 2,
   "id": "fb40152b",
   "metadata": {},
   "outputs": [
    {
     "name": "stdout",
     "output_type": "stream",
     "text": [
      "<class 'torch.Tensor'>\n"
     ]
    }
   ],
   "source": [
    "image_path=r'111.jpg'\n",
    "image=Image.open(image_path)\n",
    "trans=transforms.ToTensor()#定义操作\n",
    "t_image=trans(image)#转换\n",
    "print(type(t_image))"
   ]
  },
  {
   "cell_type": "code",
   "execution_count": 3,
   "id": "c5fc4939",
   "metadata": {},
   "outputs": [],
   "source": [
    "trans_1=transforms.ToPILImage()(t_image)\n",
    "\n",
    "save1=r'222.jpg'\n",
    "trans_1.save(save1)"
   ]
  },
  {
   "cell_type": "code",
   "execution_count": null,
   "id": "a5de0aef",
   "metadata": {},
   "outputs": [],
   "source": []
  },
  {
   "cell_type": "code",
   "execution_count": null,
   "id": "3aa18002",
   "metadata": {},
   "outputs": [],
   "source": []
  },
  {
   "cell_type": "code",
   "execution_count": null,
   "id": "af42c128",
   "metadata": {},
   "outputs": [],
   "source": []
  }
 ],
 "metadata": {
  "kernelspec": {
   "display_name": "Python 3 (ipykernel)",
   "language": "python",
   "name": "python3"
  },
  "language_info": {
   "codemirror_mode": {
    "name": "ipython",
    "version": 3
   },
   "file_extension": ".py",
   "mimetype": "text/x-python",
   "name": "python",
   "nbconvert_exporter": "python",
   "pygments_lexer": "ipython3",
   "version": "3.11.4"
  }
 },
 "nbformat": 4,
 "nbformat_minor": 5
}
